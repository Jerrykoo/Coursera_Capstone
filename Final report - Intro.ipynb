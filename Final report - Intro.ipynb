{
 "cells": [
  {
   "cell_type": "markdown",
   "metadata": {},
   "source": [
    "<h1 align=center><font size = 1>Capstone Project - The Battle of Neighborhoods</font></h1>\n",
    "\n",
    "---\n",
    "<h2 align=center><font size = 1>(Location-based Personalized Advertisements)</font></h2>\n",
    "\n",
    "* ### **Introduction/Business Problem:**\n",
    "\n",
    "Marketing is an essential topic for every business. If you want to boost your business, you have to present your products to the audience, or even better, the targeted audience. Commercials, advertisements, coupons are everywhere now in digital world nowadays. People cannot avoid them but also, they cannot be attracted to most of the information because they have limited concentration and would rather allocate more time on things they actually desire. That’s why customers are welcoming to relevant marketing messages rather than being bombarded with a plethora of deals that do not excite them. A customer in the kids’ section is likely to be interested in offers on kid garments. However, a standee displaying offers on kids’ garments is not relevant to most customers walking passed it. \n",
    "\n",
    "So now the question lies ahead, if you are business owner and you want to advertise your products, how can your ads be targeted more efficiently on potential customers? How can your ads be distributed to interested parties including customers with more precision and less cost if possible? These would be the business problem that we would like to solve in this project.\n",
    "\n",
    "Geo-Targeted Mobile Ads could be a solution! Geo-targeting services from Google, Yahoo!, allow advertisers to allocate search campaign resources at a local level.  With geo-targeting options available today, audiences can be targeted at the country, state, city, and ZIP code level to determine the best potential ad placements."
   ]
  },
  {
   "cell_type": "code",
   "execution_count": null,
   "metadata": {},
   "outputs": [],
   "source": []
  }
 ],
 "metadata": {
  "kernelspec": {
   "display_name": "Python 3",
   "language": "python",
   "name": "python3"
  },
  "language_info": {
   "codemirror_mode": {
    "name": "ipython",
    "version": 3
   },
   "file_extension": ".py",
   "mimetype": "text/x-python",
   "name": "python",
   "nbconvert_exporter": "python",
   "pygments_lexer": "ipython3",
   "version": "3.6.8"
  }
 },
 "nbformat": 4,
 "nbformat_minor": 2
}
