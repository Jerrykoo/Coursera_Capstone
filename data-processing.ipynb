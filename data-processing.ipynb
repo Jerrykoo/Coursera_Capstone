{
 "cells": [
  {
   "cell_type": "markdown",
   "metadata": {},
   "source": [
    "### Install Data Processing Package and BeautifulSoup"
   ]
  },
  {
   "cell_type": "code",
   "execution_count": 4,
   "metadata": {},
   "outputs": [],
   "source": [
    "from bs4 import BeautifulSoup\n",
    "import lxml\n",
    "import html5lib\n",
    "import requests\n",
    "import pandas as pd\n",
    "from requests import get"
   ]
  },
  {
   "cell_type": "code",
   "execution_count": 5,
   "metadata": {},
   "outputs": [],
   "source": [
    "source = requests.get('https://en.wikipedia.org/wiki/List_of_postal_codes_of_Canada:_M').text"
   ]
  },
  {
   "cell_type": "markdown",
   "metadata": {},
   "source": [
    "### Use BeautifulSoup to extract text message"
   ]
  },
  {
   "cell_type": "code",
   "execution_count": 6,
   "metadata": {},
   "outputs": [],
   "source": [
    "soup = BeautifulSoup(source,'lxml')\n",
    "#print(soup.prettify())"
   ]
  },
  {
   "cell_type": "code",
   "execution_count": 7,
   "metadata": {},
   "outputs": [],
   "source": [
    "body = soup.find('body')\n",
    "#print(body.prettify())"
   ]
  },
  {
   "cell_type": "code",
   "execution_count": 8,
   "metadata": {},
   "outputs": [
    {
     "name": "stdout",
     "output_type": "stream",
     "text": [
      "580\n"
     ]
    }
   ],
   "source": [
    "body_content = body.find('div',class_='mw-parser-output').table.tbody\n",
    "print(len(body_content))\n",
    "data_list = []"
   ]
  },
  {
   "cell_type": "markdown",
   "metadata": {},
   "source": [
    "### Find Table data that includes PostalCode/Borough/Neighborhood"
   ]
  },
  {
   "cell_type": "code",
   "execution_count": 9,
   "metadata": {},
   "outputs": [],
   "source": [
    "for idx, tr in enumerate(body_content.find_all('tr')):\n",
    "    if idx != 0:\n",
    "        tds = tr.find_all('td')\n",
    "        tds0 = tds[0]\n",
    "        tds1 = tds[1].find('a')\n",
    "        tds2 = tds[2].find('a')\n",
    "        if tds1 == None and tds2 == None:   \n",
    "            data_list.append({\n",
    "            'PostalCode': tds0.contents[0],\n",
    "            'Borough': tds[1].contents[0],\n",
    "            'Neighborhood':tds[2].contents[0]\n",
    "            })\n",
    "        elif tds1 != None and tds2 == None:\n",
    "            data_list.append({\n",
    "            'PostalCode': tds0.contents[0],\n",
    "            'Borough': tds1.text,\n",
    "            'Neighborhood':tds[2].contents[0]\n",
    "            })\n",
    "        elif tds1 == None and tds2 != None:\n",
    "            data_list.append({\n",
    "            'PostalCode': tds0.contents[0],\n",
    "            'Borough': tds[1].contents[0],\n",
    "            'Neighborhood':tds2.text\n",
    "            })\n",
    "        else:\n",
    "             data_list.append({\n",
    "             'PostalCode': tds0.contents[0],\n",
    "              'Borough': tds1.text,\n",
    "              'Neighborhood':tds2.text\n",
    "              })"
   ]
  },
  {
   "cell_type": "code",
   "execution_count": 10,
   "metadata": {},
   "outputs": [],
   "source": [
    "df = pd.DataFrame(data_list,columns = ['PostalCode','Borough','Neighborhood'])"
   ]
  },
  {
   "cell_type": "markdown",
   "metadata": {},
   "source": [
    "### Clean data: Clearing Borough data that has 'not assigned', Deleting Spaces, Joining the Neighborhoods that have the same Postal Code"
   ]
  },
  {
   "cell_type": "code",
   "execution_count": 11,
   "metadata": {},
   "outputs": [],
   "source": [
    "df = df[(True^df['Borough'].isin(['Not assigned']))]"
   ]
  },
  {
   "cell_type": "code",
   "execution_count": 12,
   "metadata": {},
   "outputs": [],
   "source": [
    "for x in df['Neighborhood']:\n",
    "    if x in ('Not assigned','Not assigned\\n'):\n",
    "        df.loc[df.Neighborhood == x,'Neighborhood']=df.loc[df.Neighborhood == x,'Borough']\n",
    "    else:\n",
    "        pass"
   ]
  },
  {
   "cell_type": "code",
   "execution_count": 13,
   "metadata": {},
   "outputs": [],
   "source": [
    "df['Neighborhood']=df['Neighborhood'].str.replace('\\n','')\n",
    "#print(df.to_string()) #a way to display all rows of data"
   ]
  },
  {
   "cell_type": "code",
   "execution_count": 14,
   "metadata": {},
   "outputs": [],
   "source": [
    "dataset = df.groupby('PostalCode')['Neighborhood'].apply(','.join).reset_index()\n",
    "dataset = dataset.join(df.set_index('PostalCode')['Borough'], on='PostalCode').drop_duplicates()  ##set PostalCode column as Index!\n",
    "Torontodata = pd.DataFrame(dataset,columns = ['PostalCode','Borough','Neighborhood'])\n",
    "Torontodata = Torontodata.sample(frac=1).reset_index(drop=True)"
   ]
  },
  {
   "cell_type": "code",
   "execution_count": 15,
   "metadata": {},
   "outputs": [
    {
     "data": {
      "text/plain": [
       "(103, 3)"
      ]
     },
     "execution_count": 15,
     "metadata": {},
     "output_type": "execute_result"
    }
   ],
   "source": [
    "Torontodata.shape"
   ]
  },
  {
   "cell_type": "code",
   "execution_count": null,
   "metadata": {},
   "outputs": [],
   "source": []
  }
 ],
 "metadata": {
  "kernelspec": {
   "display_name": "Python 3",
   "language": "python",
   "name": "python3"
  },
  "language_info": {
   "codemirror_mode": {
    "name": "ipython",
    "version": 3
   },
   "file_extension": ".py",
   "mimetype": "text/x-python",
   "name": "python",
   "nbconvert_exporter": "python",
   "pygments_lexer": "ipython3",
   "version": "3.6.8"
  }
 },
 "nbformat": 4,
 "nbformat_minor": 2
}
